{
 "cells": [
  {
   "cell_type": "markdown",
   "id": "e94a57a9-3bea-413a-bbb4-28f1ed8a988f",
   "metadata": {},
   "source": [
    "# Week 3: The Compressibility Factor\n",
    "\n",
    "The phase behavior of fluids at moderate to high pressure requires the definition of an equation of state that captures deviations from the ideal gas behaviour. \n",
    "\n",
    "To this aim we introduce a compressibility factor: \n",
    "\n",
    "$$\n",
    "Z=\\frac{Pv}{RT}\n",
    "$$\n",
    "\n",
    "for an ideal gas $Z=1$, $P=RT/v$, and $v=RT/P$. \n",
    "\n",
    "# Fugacity and compressibility factor\n",
    "\n",
    "As discussed when working on Vapour/Liquid Equilibria, the chemical potential of a real fluid can be computed from its fugacity $f_i$. \n",
    "The ratio between the fugacity of a pure component and its pressure can be written as: \n",
    "\n",
    "$$\n",
    "RT\\ln\\left(\\frac{f_i}{P}\\right)_{pure}=RT\\ln{\\phi_{i,pure}}=\\int_0^P\\left(v_i-\\frac{RT}{P}dP\\right) \n",
    "$$\n",
    "\n",
    "this can be recast as a function of the compressibility factor as: \n",
    "\n",
    "$$\n",
    "\\ln{\\phi_{i,pure}}=\\int_0^P\\left(\\frac{Z_i-1}{P}dP\\right) \n",
    "$$\n",
    "\n",
    "hence being able to caputre the behavior of the compressibility factor in a real fluid opens up the possibility of characterising equilibria beyond the ideal gas approximation. \n"
   ]
  },
  {
   "cell_type": "markdown",
   "id": "27d7252a-dfea-4206-9c85-6f2b661a13a6",
   "metadata": {},
   "source": [
    "## The Virial equation of state\n",
    "\n",
    "The virial equation of state is based on the expression of the compressibility factor as a power series of the density $\\rho=v^{-1}$. \n",
    "\n",
    "$$\n",
    "Z=1+\\rho{B}+\\rho^2{C}+\\rho^3{D}+...\n",
    "$$\n",
    "\n",
    "This expansion is usually truncated at the third term. Each term, represents the contribution to the compressibility factor that comes from interactions between two, three, four, etc bodies. \n",
    "For pure components the virial coefficients are independent from pressure or density and only function of the system's temperature\n",
    "\n",
    "This equation also provides a direct point of contact between molecular and macroscopic properties. In fact, experimentally the virial expansion coefficients can be obtained by estimating the following limits: \n",
    "\n",
    "$$\n",
    "B=\\lim_{\\rho\\rightarrow{0}}\\left(\\frac{\\partial{Z}}{\\partial{\\rho}}\\right)\n",
    "$$\n",
    "\n",
    "$$\n",
    "C=\\lim_{\\rho\\rightarrow{0}}\\frac{1}{2}\\left(\\frac{\\partial^2{Z}}{\\partial{\\rho^2}}\\right)\n",
    "$$\n",
    "\n",
    "practically this can be done by estimating as the interceipt and slope of the following equation: \n",
    "\n",
    "$$\n",
    "v\\left(\\frac{Pv}{RT}-1\\right)=B+\\frac{C}{v}\n",
    "$$\n",
    "\n"
   ]
  }
 ],
 "metadata": {
  "kernelspec": {
   "display_name": "Python 3",
   "language": "python",
   "name": "python3"
  },
  "language_info": {
   "codemirror_mode": {
    "name": "ipython",
    "version": 3
   },
   "file_extension": ".py",
   "mimetype": "text/x-python",
   "name": "python",
   "nbconvert_exporter": "python",
   "pygments_lexer": "ipython3",
   "version": "3.7.7"
  }
 },
 "nbformat": 4,
 "nbformat_minor": 5
}
