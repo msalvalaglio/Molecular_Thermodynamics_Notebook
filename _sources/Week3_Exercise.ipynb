{
 "cells": [
  {
   "cell_type": "markdown",
   "id": "cf902597-3bdd-4462-9b8c-6c7026e1ff33",
   "metadata": {},
   "source": [
    "# Week 3 Exercise: Second Virial Coefficient from Interatomic potentials. \n",
    "\n",
    "\n",
    "In this session we will investigate the emergence of non-idealities in the volumetri behavior of pure fluids by computing an expression of the P/v isotherm in the case of particles interacting with a square well potential, defined by the expression: $\\Gamma_{ii}=0$ for $r>R\\sigma$ ; $-\\epsilon$ for $\\sigma<r\\leq{R}\\sigma$ ; $\\infty$ for $r \\leq \\sigma$\n",
    "\n",
    "This potential is a function of three parameters: $\\sigma$, $\\epsilon$, and $R$. It is easy to see that for $\\sigma, \\epsilon \\rightarrow {0}$ the behavior of the gas is ideal. \n",
    "\n",
    "The objective of this exercise is to estimate the deviation from the ideal Gas volumetric behavior at constant temperature, as a function of increasing values of $\\sigma$, $\\epsilon$, and $R$.\n",
    "\n",
    "In solving the problem remember that the second order virial coefficient can be computed from $\\Gamma_{ii}$ as: \n",
    "$$\n",
    "B_{ii}=2\\pi{N_A}\\int_0^\\infty\\left(1-e^{-\\Gamma_{ii}/RT}\\right)r^2dr\n",
    "$$\n",
    "\n",
    "\n"
   ]
  },
  {
   "cell_type": "markdown",
   "id": "206aaa09",
   "metadata": {},
   "source": []
  }
 ],
 "metadata": {
  "kernelspec": {
   "display_name": "Python 3",
   "language": "python",
   "name": "python3"
  },
  "language_info": {
   "codemirror_mode": {
    "name": "ipython",
    "version": 3
   },
   "file_extension": ".py",
   "mimetype": "text/x-python",
   "name": "python",
   "nbconvert_exporter": "python",
   "pygments_lexer": "ipython3",
   "version": "3.7.7"
  }
 },
 "nbformat": 4,
 "nbformat_minor": 5
}
