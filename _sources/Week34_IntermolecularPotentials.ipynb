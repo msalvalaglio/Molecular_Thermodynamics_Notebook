{
 "cells": [
  {
   "cell_type": "markdown",
   "id": "e94a57a9-3bea-413a-bbb4-28f1ed8a988f",
   "metadata": {},
   "source": [
    "# Intermolecular Potentials\n",
    "\n",
    "The collective behavior that emerges from using the application of statistical mechanics concepts to molecular systems emerges from interactions between atoms. Interatomic interactions are inherently governed by quantum mechanics, however suitable approximations that capture their essential physics in a computationally tractable manner have been historically adopted to describe fluids at the atomistic level. \n",
    "\n",
    "The theory of Intermolecular forces provides a somewhat arbitrary classification of Intermolecular that includes four main categories: \n",
    "\n",
    "- Electrostatic forces: are the attractive or repulsive forces between permanent charges or dipoles/quadrupoles and higher multipoles.\n",
    "\n",
    "- Induction forces: are the forces between a permanent charge or dipole, and a molecule with polarizable electrons. \n",
    "\n",
    "- Dispersion forces: are the intermolecular forces acting between nonpolar, neutral molecules. \n",
    "\n",
    "- Specific chemical forces: H-bonds are a typical example. \n",
    "\n",
    "In these notes we briefly discuss the intermolecular potentials resulting from electrostatic and dispersion forces. "
   ]
  },
  {
   "cell_type": "markdown",
   "id": "27d7252a-dfea-4206-9c85-6f2b661a13a6",
   "metadata": {},
   "source": [
    "## Electrostatic interactions between point charges. \n",
    "\n",
    "Consider two charged atoms, (i.e. two ions) their two-body interatomic potential is $\\Gamma_{i,j}$: \n",
    "\n",
    "$$\n",
    "\\Gamma^{ele}_{i,j}=\\frac{q_iq_j}{4\\pi\\epsilon\\,r_{i,j}}\n",
    "$$\n",
    "\n",
    "where: \n",
    "\n",
    "$q_i$ and $q_j$ are the _partial_ charges of atoms $i$ and $j$, $\\epsilon$ is the medium permittivity, and $r$ the distance between atoms $i$ and $j$."
   ]
  },
  {
   "cell_type": "markdown",
   "id": "be6025b2-e7b7-4427-b849-4d020d35ac72",
   "metadata": {},
   "source": [
    "## Interatomic potentials emerging from dispersion forces. \n",
    "\n",
    "In the 1930s London demonstrated that non-polar molecules are characterised by transient dipoles due to transient distortions of the electrons arrangement with respect to the position of the nucleus. As such, while the time-average of the dipole for non-polar molecules is null, the instantaneous dipole is non-negligible and induces a short range attraction that scales with the sixth power of the distance beween molecules, i.e.: \n",
    "\n",
    "$$\n",
    "\\Gamma^{attractive}_{i,j}\\propto{-r_{i,j}^{-6}}\n",
    "$$\n",
    "\n",
    "where the negative sign indicates an attractive potential. \n",
    "\n",
    "In addition to the attraction associated with transient dipoles, non-polar molecules are subject to repulsive forces at short values of $r_{i,j}$. \n",
    "Such repulsive potential scales exponentially with the distance between molecules, however for convenience the contribution of these repulsive forces is computed as a power of $1/r$. \n",
    "Typically one can write: \n",
    "\n",
    "$$\n",
    "\\Gamma^{repulsive}_{i,j}\\propto{r_{i,j}^{-n}}\n",
    "$$\n",
    "\n",
    "where $n$ is an arbitrary number, and typically $n>6$. \n",
    "\n",
    "The total interaction potential between non-polar molecules is therefore represented by the sum of the attractive dispersion forces, and the repulsive forces active at short range. \n",
    "\n",
    "$$\n",
    "\\Gamma^{non-polar}_{i,j}=Ar_{i,j}^{-n}-Ar_{i,j}^{-m}\n",
    "$$\n",
    "\n",
    "where $m$ is typically 6. \n",
    "\n",
    "A general functional form for an intermolecular potential has been developed by Mie in the following form:\n",
    "\n",
    "$$\n",
    "\\Gamma^{non-polar}_{i,j}=\\frac{\\epsilon\\left(n^n/m^m\\right)^{1/(n-m)}}{n-m}\\left[\\left(\\frac{\\sigma}{r_{i,j}}\\right)^n-\\left(\\frac{\\sigma}{r_{i,j}}\\right)^m\\right]\n",
    "$$\n",
    " \n",
    " \n",
    "Substituting n=12 and m=6 in the Mie potential one can obtain the Lennard Jones Potential. \n",
    " \n",
    "$$\n",
    "\\Gamma^{LJ}_{i,j}=4\\epsilon\\left[\\left(\\frac{\\sigma}{r_{i,j}}\\right)^{12}-\\left(\\frac{\\sigma}{r_{i,j}}\\right)^6\\right]\n",
    "$$\n",
    "\n",
    "where $\\epsilon$ represents the depth of the attractive well, and $\\sigma$ the distance at which the repulsive and attractive contributes to the potential compensate perfectly. \n",
    "\n",
    "The intermolecular interaction between methane molecules can be captured by the following expressions: "
   ]
  },
  {
   "cell_type": "code",
   "execution_count": 9,
   "id": "8038a8a5-fd1d-46cc-91f6-ee01e70feeb4",
   "metadata": {},
   "outputs": [
    {
     "data": {
      "image/png": "[encoded data removed]",
      "text/plain": [
       "<Figure size 432x288 with 1 Axes>"
      ]
     },
     "metadata": {
      "needs_background": "light"
     },
     "output_type": "display_data"
    }
   ],
   "source": [
    "import matplotlib.pyplot as plt \n",
    "from matplotlib import cm\n",
    "import numpy as np\n",
    "\n",
    "\n",
    "figure=plt.figure()\n",
    "axes = figure.add_axes([0.1,0.1,1,1])\n",
    "plt.xticks(fontsize=14)\n",
    "plt.yticks(fontsize=14)\n",
    "axes.set_xlabel('r, A', fontsize=16);\n",
    "axes.set_ylabel('$\\Gamma$, [K]',fontsize=16);\n",
    "axes.set_xlim([0.5,20]);\n",
    "axes.set_ylim([-250,50]);\n",
    "\n",
    "\n",
    "#Intermolecular Potential, i.e. LJ 6/12\n",
    "#Species=[Ar]\n",
    "SIGMA=[4.010, ] # Angstrom\n",
    "EPS=[ 142.87,] #K \n",
    "\n",
    "\n",
    "r = np.linspace(0.3, 25, 500)\n",
    "Gamma=np.zeros((np.size(r),np.size(SIGMA)))\n",
    "\n",
    "\n",
    "color=iter(cm.gist_gray(np.linspace(0,1,np.size(SIGMA)+1)))\n",
    "\n",
    "# Consider a LJ gas\n",
    "for i in np.arange(0,np.size(SIGMA)):\n",
    "    c=next(color)\n",
    "    sr6=np.power(np.divide(SIGMA[i],r),6)\n",
    "    Gamma[:,i]=4*EPS[i]*(np.power(sr6,2)-sr6)\n",
    "    axes.plot(r,Gamma[:,i], marker=' ' , c=c, linewidth=3.0);\n"
   ]
  },
  {
   "cell_type": "code",
   "execution_count": null,
   "id": "4cef11d2-7e18-43e0-a0cb-5bdff4000846",
   "metadata": {},
   "outputs": [],
   "source": []
  }
 ],
 "metadata": {
  "kernelspec": {
   "display_name": "Python 3",
   "language": "python",
   "name": "python3"
  },
  "language_info": {
   "codemirror_mode": {
    "name": "ipython",
    "version": 3
   },
   "file_extension": ".py",
   "mimetype": "text/x-python",
   "name": "python",
   "nbconvert_exporter": "python",
   "pygments_lexer": "ipython3",
   "version": "3.7.7"
  }
 },
 "nbformat": 4,
 "nbformat_minor": 5
}
