{
 "cells": [
  {
   "cell_type": "markdown",
   "id": "454aded3-a206-479d-992c-3f1c965e6610",
   "metadata": {},
   "source": [
    "# Week 2  Liquid/Solid Equilibrium in multicomponent systems: defining solubility \n",
    "\n",
    "Let us begin by writing the solid-liquid equilibrium conditions at temperature $T$ and pressure $P$, between a pure crystalline phase and a multicomponent liquid phase characterised by composition $\\vec{x}$. \n",
    "Equilibrium is stated by the equality of chemical potentials: \n",
    "\n",
    "$$\n",
    "\\mu_i^s(T,P)=\\mu_i^\\ell(T,P,\\vec{x})\n",
    "$$\n",
    "\n",
    "which is equivalent to the equality of the fugacity in the two phases: \n",
    "\n",
    "$$\n",
    "f_i^s(T,P)=\\hat{f}_i^\\ell(T,P,\\vec{x})\n",
    "$$\n",
    "\n",
    "where $f_i^s(T,P)$ is the fugacity of a pure crystalline solid at $T$ and $P$, while $\\hat{f}_i^\\ell(T,P,\\vec{x})$, is the fugacity of a \\emph{real} mixture at the same temperature and pressure, at composition $\\vec{x}$. "
   ]
  },
  {
   "cell_type": "markdown",
   "id": "76db98e3",
   "metadata": {},
   "source": [
    "### Fugacity of a real solution\n",
    "\n",
    "Focusing on the right hand of Eq.\\ref{eq:fugacity}, the fugacity in the \\textbf{real solution} phase can be rewritten as a function of the fugacity of the \\textbf{pure liquid phase} as follows:\n",
    "\n",
    "$$\n",
    "\\hat{f}_i^\\ell(T,P,\\vec{x})=f_i^\\ell(T,P)x_i\\gamma_i(T,P,\\vec{x})\n",
    "$$\n",
    "\n",
    "where $x_i$ is the molar fraction that realizes the equality between fugacities, i.e. the solubility of component $i$, $f_i^\\ell(T,P)x_i$ is the fugacity of an \\emph{ideal} solution at molar fraction $x_i$, $\\gamma_i(T,P,\\vec{x})$ is the activity coefficient, capturing the non-idealities of the liquid phase in equilibrium with the solid. By definition of an ideal solution $f_i^\\ell(T,P)$ is the fugacity of the \\textbf{pure solute in its liquid phase} at temperature T and pressure P. \n",
    "\n"
   ]
  },
  {
   "cell_type": "markdown",
   "id": "d17b0a9c",
   "metadata": {},
   "source": [
    "### Fugacity of a pure crystalline solid\n",
    "\n",
    "Let us now focus on the left-hand side of Eq.\\ref{eq:fugacity}. Here, we are only concerned with the \\textbf{physical properties of the pure solute}. \n",
    "The fugacity of the pure solid phase can also be written as a function of the fugacity of the pure liquid by introducing the definition of fugacity and integrating between the liquid and solid states \\emph{$\\ell$}$\\rightarrow$\\emph{s}:  \n",
    "\n",
    "$$\n",
    "\\int^{T,P,s}_{T,P,\\ell}d\\mu_i=\\int^{T,P,s}_{T,P,\\ell}RTd\\ln{f_i}\n",
    "$$\n",
    "\n",
    "which, integrated, leads to: \n",
    "\n",
    "$$\n",
    "\\Delta{\\mu}_{i,\\ell\\rightarrow{s}}=RTln\\left(\\frac{f_i^s(T,P)}{f_i^\\ell(T,P)}\\right)\n",
    "$$\n",
    "\n",
    "and rearranged gives: \n",
    "\n",
    "$$\n",
    "f_i^s(T,P)=f_i^\\ell(T,P)e^{\\frac{\\Delta{\\mu}_{i,\\ell\\rightarrow{s}}}{RT}}\n",
    "$$\n",
    "\n",
    "where notably $\\Delta{\\mu}_{i,\\ell\\rightarrow{s}}$, is the change in chemical potential associated with the liquid to solid transition of the \\emph{pure solid}. \n",
    "We note that the change in chemical potential for a pure substance corresponds to the the partial molar change in free energy $\\Delta{g_i(T,P)}$:\n",
    "\n",
    "$$\n",
    "\\Delta\\mu_{i,\\ell\\rightarrow{s}}=\\Delta{g}_i^s(T,P)=\\Delta{h}_i(T,P)-T\\Delta{s}_i(T,P)\n",
    "$$\n",
    "\n",
    "Now we express the molar enthalpy change \\textbf{for the pure solute} by considering a thermodynamic cycle, that goes through the melting temperature $T_f$ at pressure P. This enables the computation of $\\Delta{h}_i(T,P)$ and $\\Delta{s}_i(T,P)$ via an arbitrary but convenient path, taking advantage of the fact that all terms in the free energy expression are \\emph{state functions}. "
   ]
  },
  {
   "cell_type": "markdown",
   "id": "55c38e07",
   "metadata": {},
   "source": [
    "### Enthalpy of phase transition at T and P for pure solute\n",
    "\n",
    "The enthalpy change associated with the solid-to-liquid transition becomes: \n",
    "\n",
    "$$\n",
    "\\Delta{h}_i(T,P)=-\\Delta{h_{fus}\\left(T_f\\right)}+\\int_T^{T_f}Cp^{\\ell}dT-\\int_T^{T_f}Cp^{s}dT\n",
    "$$\n",
    "\n",
    "where: \n",
    "\n",
    "- $\\int_T^{T_f}Cp^{\\ell}dT$ is the enthalpy change associated with raising the temperature of the *pure solute liquid* from $T$ to $T_m$\n",
    "- $-\\int_T^{T_f}Cp^{s}dT$ is the enthalpy change associated with decreasing the temperature of the *pure solid* from $T_m$ to $T$\n",
    "- ${-\\Delta{h_{fus}\\left(T_f\\right)}}$ is the change in enthalpy associated with the liquid to solid transition of the *pure solute* at the melting temperature\n",
    "\n",
    "For heat capacities independent of T, the enthalpic contribution reduces to: \n",
    "\n",
    "$$\n",
    "\\Delta{h}_i(T,P)\\simeq-\\Delta{h_{fus}\\left(T_f\\right)}+\\left(Cp^{\\ell}-Cp^{s}\\right)\\left(T_f-T\\right)\n",
    "$$"
   ]
  },
  {
   "cell_type": "markdown",
   "id": "5f059580",
   "metadata": {},
   "source": [
    "### Entropy of phase transition at T and P for pure solute\n",
    "\n",
    "Analogously to the enthalpy term, we can write the molar change in entropy via a the same thermodynamic cycle:  \n",
    "\n",
    "$$\n",
    "\\Delta{s}_i(T,P)=-\\frac{\\Delta{h_{fus}\\left(T_f\\right)}}{T_f}+\\int_T^{T_f}\\frac{Cp^{\\ell}}{T}dT-\\int_T^{T_f}\\frac{Cp^{s}}{T}dT \n",
    "$$\n",
    "\n",
    "where: \n",
    "\n",
    "- $+\\int_T^{T_f}\\frac{Cp^{\\ell}}{T}dT$ is the entropy change associated with raising the temperature of the *pure solute liquid* from $T$ to $T_m$\n",
    "- $-\\int_T^{T_f}\\frac{Cp^{s}}{T}dT $ is the enthalpy change associated with decreasing the temperature of the *pure solid* from $T_m$ to $T$\n",
    "- $-\\frac{\\Delta{h_{fus}\\left(T_f\\right)}}{T_f}$ is the change in entropy associated with the liquid to the solid transition of the *pure solute* at the melting temperature\n",
    "\n",
    "\n",
    "Again, for heat capacities independent of T, the entropy change reduces to: \n",
    "\n",
    "$$\n",
    "\\Delta{s}_i(T,P) \\simeq -\\frac{\\Delta{h_{fus}}}{T_f}+\\left(Cp^{\\ell}-Cp^{s}\\right)\\ln{\\left(\\frac{T_f}{T}\\right)}\n",
    "$$"
   ]
  },
  {
   "cell_type": "markdown",
   "id": "28e2571d",
   "metadata": {},
   "source": [
    "### Free energy of phase transition at T and P for pure solute \n",
    "\n",
    "Defining $\\Delta{Cp}_{\\ell\\rightarrow{s}}=\\left(Cp^{\\ell}-Cp^{s}\\right)$ we can now recover the expression for $\\Delta{g}_i^s(T,P)$, where the only assumption is that $Cp^{\\ell}$ and $Cp^{s}$ are independent from the temperature T. \n",
    "\n",
    "$$\n",
    "\\Delta{g}_i^s(T,P)=-\\Delta{h_{fus}\\left(1-\\frac{T}{T_f}\\right)}+\\Delta{Cp}_{\\ell\\rightarrow{s}}\\left(T_f-T-T\\ln{\\left(\\frac{T_f}{T}\\right)}\\right)\n",
    "$$"
   ]
  },
  {
   "cell_type": "markdown",
   "id": "11f681ae",
   "metadata": {},
   "source": [
    "### Solubility\n",
    "\n",
    "Inserting now this expression in Eq. \\ref{eq:fugacitysolid} yields: \n",
    "\n",
    "$$\n",
    "f_i^s(T,P)=f_i^\\ell(T,P)\\exp\\left[\\frac{{-\\Delta{h_{fus}\\left(1-\\frac{T}{T_f}\\right)}+\\Delta{Cp}_{\\ell\\rightarrow{s}}\\left(T_f-T-T\\ln{\\left(\\frac{T_f}{T}\\right)}\\right)}}{RT}\\right]\n",
    "$$\n",
    "\n",
    "which then can be inserted into the equality of fugacities defining equilibrium Eq.\\ref{eq:fugacity} giving: \n",
    "\n",
    "$$\n",
    "f_i^\\ell(T,P)x_i\\gamma_i(T,P,\\vec{x})=f_i^\\ell(T,P)\\exp\\left[\\frac{{-\\Delta{h_{fus}\\left(1-\\frac{T}{T_f}\\right)}+\\Delta{Cp}_{\\ell\\rightarrow{s}}\\left(T_f-T-T\\ln{\\left(\\frac{T_f}{T}\\right)}\\right)}}{RT}\\right]\n",
    "$$\n",
    "\n",
    "which can be rearranged to yield an expression of the solubility $x_i$ where the only approximation introduced is in considering the heat capacities of both the crystal and the liquid constant in T. \n",
    "\n",
    "$$\n",
    "x_i=\\frac{1}{\\gamma_i(T,P,\\vec{x})}\\exp\\left[\\frac{{-\\Delta{h_{fus}\\left(1-\\frac{T}{T_f}\\right)}+\\Delta{Cp}_{\\ell\\rightarrow{s}}\\left(T_f-T-T\\ln{\\left(\\frac{T_f}{T}\\right)}\\right)}}{RT}\\right]\n",
    "$$\n",
    "\n",
    "In this expression, the fugacity of the pure liquid solute, $f_i^\\ell(T,P)$ here cancels out, and the term $-\\Delta{h_{fus}}$ is not approximating a different quantity (like the enthalpy of dissolution). It is actually introduced rigorously by the convenient choice of an appropriate thermodynamic cycle for the calculation of $\\Delta\\mu_{i,\\ell\\rightarrow{s}}$. "
   ]
  },
  {
   "cell_type": "markdown",
   "id": "b7cd52db",
   "metadata": {},
   "source": [
    "## The Schroeder-Van Laar Equation\n",
    " \n",
    "The Schroeder-Van Laar equation for the solubility is derived from \\ref{eq:solubility} by assuming that $\\Delta{Cp}_{\\ell\\rightarrow{s}}$ is negligible. \n",
    "\n",
    "This simplification yields:  \n",
    "\n",
    "$$\n",
    "\\Delta{g}_i^s(T,P)\\simeq-\\Delta{h_{fus}\\left(1-\\frac{T}{T_f}\\right)}\n",
    "$$\n",
    "\n",
    "Thus leading to the Schroeder-Van Laar solubility equation for $x_i$:  \n",
    "\n",
    "$$\n",
    "x_i=\\frac{1}{\\gamma_i(T,P,\\vec{x})}\\exp\\left[{-\\frac{\\Delta{h_{fus}}}{R}\\left(\\frac{1}{T}-\\frac{1}{T_f}\\right)}\\right]\n",
    "$$"
   ]
  }
 ],
 "metadata": {
  "kernelspec": {
   "display_name": "Python 3 (ipykernel)",
   "language": "python",
   "name": "python3"
  },
  "language_info": {
   "codemirror_mode": {
    "name": "ipython",
    "version": 3
   },
   "file_extension": ".py",
   "mimetype": "text/x-python",
   "name": "python",
   "nbconvert_exporter": "python",
   "pygments_lexer": "ipython3",
   "version": "3.11.10"
  }
 },
 "nbformat": 4,
 "nbformat_minor": 5
}
