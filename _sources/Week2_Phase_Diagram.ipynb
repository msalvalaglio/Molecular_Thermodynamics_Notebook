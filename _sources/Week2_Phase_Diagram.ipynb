{
 "cells": [
  {
   "cell_type": "markdown",
   "id": "9a4b7dc9-f027-4be6-a4e9-43baa4e470ff",
   "metadata": {
    "tags": []
   },
   "source": [
    "# Week 2 Exercise 1: Water and Ice equilibria with vapour\n",
    "\n",
    "### Example application \n",
    "\n",
    "1. Compute the VLE and SLE equilibrium lines, and the conditions in the T/P phase diagram where water vapour is in equilirbium simultaneously with ice and liquid water: \n",
    "\n",
    "$\\Delta{h}_{ev}$= 40.657 kJ/mol\n",
    "\n",
    "$\\Delta{h}_{sub}$= 54.153 kJ/mol\n",
    "\n",
    "$P^\\circ(373 K)$=101300 Pa\n",
    "\n",
    "$P^v(273 K)$=611.153 Pa\n",
    "\n",
    "2. Demonstrate that the conditions defining the T and P where water vapour is in equilirbium simultaneously with ice and liquid water correspond to the triple point. \n"
   ]
  },
  {
   "cell_type": "markdown",
   "id": "73fe1891",
   "metadata": {},
   "source": [
    "### Example solution 1\n",
    "\n"
   ]
  },
  {
   "cell_type": "code",
   "execution_count": 2,
   "id": "8acdfdcf-a4e3-48b1-8080-071dd7a0ae79",
   "metadata": {
    "tags": [
     "{     \"tags\": [         \"hide-input\",     ] }"
    ]
   },
   "outputs": [
    {
     "ename": "NameError",
     "evalue": "name 'p' is not defined",
     "output_type": "error",
     "traceback": [
      "\u001b[0;31m---------------------------------------------------------------------------\u001b[0m",
      "\u001b[0;31mNameError\u001b[0m                                 Traceback (most recent call last)",
      "Cell \u001b[0;32mIn[2], line 7\u001b[0m\n\u001b[1;32m      2\u001b[0m \u001b[38;5;28;01mimport\u001b[39;00m \u001b[38;5;21;01mmatplotlib\u001b[39;00m\u001b[38;5;21;01m.\u001b[39;00m\u001b[38;5;21;01mpyplot\u001b[39;00m \u001b[38;5;28;01mas\u001b[39;00m \u001b[38;5;21;01mplt\u001b[39;00m \n\u001b[1;32m      5\u001b[0m T\u001b[38;5;241m=\u001b[39mnp\u001b[38;5;241m.\u001b[39mlinspace(\u001b[38;5;241m100\u001b[39m,\u001b[38;5;241m1\u001b[39m,\u001b[38;5;241m400\u001b[39m)\n\u001b[0;32m----> 7\u001b[0m p\n\u001b[1;32m     11\u001b[0m figure\u001b[38;5;241m=\u001b[39mplt\u001b[38;5;241m.\u001b[39mfigure()\n\u001b[1;32m     12\u001b[0m axes \u001b[38;5;241m=\u001b[39m figure\u001b[38;5;241m.\u001b[39madd_axes([\u001b[38;5;241m0.1\u001b[39m,\u001b[38;5;241m0.1\u001b[39m,\u001b[38;5;241m1.\u001b[39m,\u001b[38;5;241m1.\u001b[39m])\n",
      "\u001b[0;31mNameError\u001b[0m: name 'p' is not defined"
     ]
    }
   ],
   "source": [
    "import numpy as np\n",
    "import matplotlib.pyplot as plt \n",
    "\n",
    "Ttriple=\n",
    "Ptriple=\n",
    "\n",
    "T1=np.linspace(100,1,Ttriple)\n",
    "T2=np.linspace(Ttriple,1,450)\n",
    "\n",
    "Pv_T=\n",
    "Po_T=\n",
    "\n",
    "figure=plt.figure()\n",
    "axes = figure.add_axes([0.1,0.1,1.,1.])\n",
    "plt.xticks(fontsize=14)\n",
    "plt.yticks(fontsize=14)\n",
    "\n",
    "axes.plot(T1,Pv_T,'b-o',label='SLE')\n",
    "axes.plot(T2,Po_T,'r-^',label='VLE')\n",
    "axes.plot(Ttriple,Ptriple,'ks',label='Triple Point')\n",
    "\n",
    "\n",
    "axes.set_xlabel('T, [K]', fontsize=24);\n",
    "axes.set_ylabel('P [Pa]',fontsize=24); \n",
    "\n",
    "axes.legend();\n"
   ]
  },
  {
   "cell_type": "code",
   "execution_count": null,
   "id": "d6d9d1f9",
   "metadata": {},
   "outputs": [],
   "source": []
  }
 ],
 "metadata": {
  "kernelspec": {
   "display_name": "base",
   "language": "python",
   "name": "python3"
  },
  "language_info": {
   "codemirror_mode": {
    "name": "ipython",
    "version": 3
   },
   "file_extension": ".py",
   "mimetype": "text/x-python",
   "name": "python",
   "nbconvert_exporter": "python",
   "pygments_lexer": "ipython3",
   "version": "3.11.10"
  }
 },
 "nbformat": 4,
 "nbformat_minor": 5
}
