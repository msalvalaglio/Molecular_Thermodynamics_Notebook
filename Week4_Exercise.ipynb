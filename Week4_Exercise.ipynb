{
 "cells": [
  {
   "cell_type": "markdown",
   "id": "cf902597-3bdd-4462-9b8c-6c7026e1ff33",
   "metadata": {},
   "source": [
    "# Week 4 Exercise: Second Virial Coefficient from Interatomic potentials. \n",
    "\n",
    "Using the expression: \n",
    "\n",
    "$$\n",
    "B_{ii}=2\\pi{N_A}\\int_0^\\infty\\left(1-e^{-\\Gamma_{ii}/RT}\\right)r^2dr\n",
    "$$\n",
    "\n",
    "Compute the second virial coefficient for the following interatomic potentials: \n",
    "\n",
    "- $\\Gamma_{ii}=0$ \n",
    "\n",
    "- $\\Gamma_{ii}=0$ for $r> \\sigma$ ; $\\infty$ for $r \\leq \\sigma$\n",
    "\n",
    "- $\\Gamma_{ii}=0$ for $r>R\\sigma$ ; $-\\epsilon$ for $\\sigma<r\\leq{R}\\sigma$ ; $\\infty$ for $r \\leq \\sigma$\n"
   ]
  },
  {
   "cell_type": "code",
   "execution_count": 15,
   "id": "0457c0a5-b123-4007-b668-c5c641863ff5",
   "metadata": {},
   "outputs": [
    {
     "name": "stdout",
     "output_type": "stream",
     "text": [
      "[1.25663706e+12 1.00530965e+13 3.39292007e+13 8.04247719e+13\n",
      " 1.57079633e+14 2.71433605e+14 4.31026512e+14 6.43398175e+14\n",
      " 9.16088418e+14 1.25663706e+15]\n"
     ]
    },
    {
     "data": {
      "text/plain": [
       "<matplotlib.collections.PathCollection at 0x7fbc06f58150>"
      ]
     },
     "execution_count": 15,
     "metadata": {},
     "output_type": "execute_result"
    },
    {
     "data": {
      "image/png": "[encoded data removed]",
      "text/plain": [
       "<Figure size 432x288 with 1 Axes>"
      ]
     },
     "metadata": {
      "needs_background": "light"
     },
     "output_type": "display_data"
    }
   ],
   "source": [
    "import matplotlib.pyplot as plt \n",
    "from matplotlib import cm\n",
    "import numpy as np\n",
    "\n",
    "figure=plt.figure()\n",
    "axes = figure.add_axes([0.1,0.1,1.5,1.5])\n",
    "plt.xticks(fontsize=14)\n",
    "plt.yticks(fontsize=14)\n",
    "axes.set_xlabel('$\\sigma$', fontsize=16);\n",
    "axes.set_ylabel('B',fontsize=16);\n",
    "axes.set_xlim([0.5,20]);\n",
    "axes.set_ylim([-250,50]);\n",
    "\n",
    "sigma=np.linspace(1E-4,1E-3,10)\n",
    "\n",
    "NA=6E23\n",
    "\n",
    "rho=1;\n",
    "\n",
    "B=2/3*NA*np.pi*sigma**3\n",
    "\n",
    "Z=1+B*rho\n",
    "\n",
    "print(Z)\n",
    "plt.scatter(sigma,Z)"
   ]
  },
  {
   "cell_type": "code",
   "execution_count": null,
   "id": "2335d1b6-f938-483f-96b6-8817a669ca25",
   "metadata": {},
   "outputs": [],
   "source": []
  }
 ],
 "metadata": {
  "kernelspec": {
   "display_name": "Python 3",
   "language": "python",
   "name": "python3"
  },
  "language_info": {
   "codemirror_mode": {
    "name": "ipython",
    "version": 3
   },
   "file_extension": ".py",
   "mimetype": "text/x-python",
   "name": "python",
   "nbconvert_exporter": "python",
   "pygments_lexer": "ipython3",
   "version": "3.7.7"
  }
 },
 "nbformat": 4,
 "nbformat_minor": 5
}
