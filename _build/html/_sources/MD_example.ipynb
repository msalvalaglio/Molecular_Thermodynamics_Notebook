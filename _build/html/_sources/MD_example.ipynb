{
 "cells": [
  {
   "cell_type": "markdown",
   "metadata": {},
   "source": [
    "# From Intermolecular Interactions to Dynamics at the Atomistic Scale"
   ]
  },
  {
   "cell_type": "markdown",
   "metadata": {},
   "source": [
    "## System Setup"
   ]
  },
  {
   "cell_type": "code",
   "execution_count": 1,
   "metadata": {},
   "outputs": [],
   "source": [
    "%matplotlib notebook"
   ]
  },
  {
   "cell_type": "code",
   "execution_count": 2,
   "metadata": {},
   "outputs": [],
   "source": [
    "import matplotlib.pyplot as plt \n",
    "from matplotlib import cm\n",
    "import numpy as np\n",
    "\n",
    "## Initial conditions\n",
    "# positions\n",
    "x0=np.array([1, 2, 3, 3, 3, 2, 1, 1]);       \n",
    "y0=np.array([1, 1, 1, 2, 3, 3, 3, 2]);\n",
    "\n",
    "# timestep\n",
    "dt=0.05;\n",
    "\n",
    "#mass of the particles\n",
    "m=np.array([1,1,1,1,1,1,1,1]);\n",
    "\n",
    "#number of iterations\n",
    "final_time=50;\n",
    "NS=final_time/dt; \n",
    "nsteps=np.round(NS); \n",
    "\n",
    "#Interatomic potential constants\n",
    "k=50.0; # Harmonic oscillator constant\n",
    "req=1; # Harmonic oscillator equilibrium distance\n",
    "HS=10; # Repulive soft potential \n",
    "\n",
    "# Topology\n",
    "M=np.array([[0, 1, 0, 0, 0, 0, 0, 0],\n",
    "           [1, 0, 1, 0, 0, 0, 0, 0],\n",
    "           [0, 1, 0, 1, 0, 0, 0, 0],\n",
    "           [0, 0, 1, 0, 1, 0, 0, 0],\n",
    "           [0, 0, 0, 1, 0, 1, 0, 0],\n",
    "           [0, 0, 0, 0, 1, 0, 1, 0],\n",
    "           [0, 0, 0, 0, 0, 1, 0, 1],\n",
    "           [0, 0, 0, 0, 0, 0, 1, 0]]); \n",
    "k=k*M;\n",
    "\n",
    "# Random initial velocities\n",
    "v0=0.25*(np.random.rand(2,8)-0.5);"
   ]
  },
  {
   "cell_type": "markdown",
   "metadata": {},
   "source": [
    "## Integration and Visualization"
   ]
  },
  {
   "cell_type": "markdown",
   "metadata": {},
   "source": [
    "### Initialise the system"
   ]
  },
  {
   "cell_type": "code",
   "execution_count": 3,
   "metadata": {},
   "outputs": [],
   "source": [
    "%%capture\n",
    "%matplotlib inline\n",
    "\n",
    "# Setup figure for plotting the trajectory\n",
    "\n",
    "figure, axes = plt.subplots(figsize=(5, 5))\n",
    "plt.xticks(fontsize=14)\n",
    "plt.yticks(fontsize=14)\n",
    "axes.set_xlim([-5,5]);\n",
    "axes.set_ylim([-5,5]);\n",
    "\n",
    "## Compute a trajectory with the Verlet Algorithm\n",
    "# Initialise positions at t-dt\n",
    "xp=x0;\n",
    "yp=y0;\n",
    "\n",
    "# Position at time t\n",
    "x=xp+v0[0,:]*dt;\n",
    "y=yp+v0[1,:]*dt;\n",
    "\n",
    "# Position at time t+dt\n",
    "xnew=np.zeros(np.shape(x0));\n",
    "ynew=np.zeros(np.shape(x0));\n",
    "\n",
    "# time\n",
    "time=np.arange(0,nsteps);\n",
    "color=iter(cm.gist_heat(np.linspace(0,1,np.size(time)+1)))\n",
    "xx=np.zeros((np.size(time),np.size(x)));xx[0]=x0\n",
    "yy=np.zeros((np.size(time),np.size(y)));yy[0]=y0\n",
    "time[0]=0;\n",
    "time[1]=time[0]+dt;\n",
    "\n",
    "# Initialise Energy Potential and Kinetic\n",
    "POT=np.zeros(np.shape(time));\n",
    "KIN=np.zeros(np.shape(time));"
   ]
  },
  {
   "cell_type": "markdown",
   "metadata": {},
   "source": [
    "### Compute Trajectory"
   ]
  },
  {
   "cell_type": "code",
   "execution_count": 4,
   "metadata": {
    "tags": [
     "hide_output"
    ]
   },
   "outputs": [],
   "source": [
    "# Compute trajectory\n",
    "for timestep in np.arange(1,nsteps): #Cycle over timesteps\n",
    "    c=next(color)                    #Update color for static representation\n",
    "    timestep=int(timestep)           #Make sure timestep is an integer\n",
    "    \n",
    "    # Initialise force vectors\n",
    "    fx=np.zeros(np.size(x0));  \n",
    "    fy=np.zeros(np.size(x0)); \n",
    "    \n",
    "    # Compute distances and the interparticle forces for every pair of particles\n",
    "    for i in np.arange(0,np.size(x0)):\n",
    "        for j in np.arange(i+1,np.size(x0)):\n",
    "            \n",
    "            r=np.sqrt((x[i]-x[j])*(x[i]-x[j])+(y[i]-y[j])*(y[i]-y[j])); #Distance    \n",
    "               \n",
    "            cx=-(k[i,j]*(r-req)-2*HS/(np.power(r,3)))*((x[i]-x[j]))/r;  #Pairwise force in x\n",
    "            cy=-(k[i,j]*(r-req)-2*HS/(np.power(r,3)))*((y[i]-y[j]))/r;  #Pairwise force in y\n",
    "                \n",
    "            fx[i]=fx[i]+cx;      #update total x-component of the force on particle i\n",
    "            fx[j]=fx[j]-cx;      #update total x-component of the force on particle j \n",
    "\n",
    "            fy[i]=fy[i]+cy;      #update total y-component of the force on particle i\n",
    "            fy[j]=fy[j]-cy;      #update total y-component of the force on particle j \n",
    "           \n",
    "       \n",
    "    #Verlet integration\n",
    "    for i in np.arange(0,np.size(x0)):\n",
    "        xnew[i]=2*x[i]-xp[i]+(dt*dt)*fx[i]/m[i]; # new position (x-component)\n",
    "        ynew[i]=2*y[i]-yp[i]+(dt*dt)*fy[i]/m[i]; # new position (y-component)\n",
    "    \n",
    "    # Compute velocity     \n",
    "    vx=(xnew-xp)/2/dt;\n",
    "    vy=(ynew-yp)/2/dt;\n",
    "    v=np.sqrt(np.power(vx,2)+np.power(vy,2)); \n",
    "    \n",
    "    # Reassign positions\n",
    "    xp=x; yp=y; x=xnew-np.mean(xnew); y=ynew-np.mean(ynew);\n",
    "    \n",
    "    # Static representation of the trajectory\n",
    "    line, = axes.plot(x,y,marker='o',color=c,markersize=10,linestyle='-')\n",
    "    \n",
    "    ## Store trajectory for animation \n",
    "    xx[timestep]=x;\n",
    "    yy[timestep]=y;"
   ]
  },
  {
   "cell_type": "markdown",
   "metadata": {},
   "source": [
    "### Visualization of the trajectory"
   ]
  },
  {
   "cell_type": "code",
   "execution_count": 5,
   "metadata": {
    "tags": [
     "hide_input"
    ]
   },
   "outputs": [],
   "source": [
    "%%capture\n",
    "%matplotlib inline\n",
    "from matplotlib.animation import FuncAnimation\n",
    "from matplotlib import animation, rc\n",
    "from IPython.display import HTML\n",
    "\n",
    "fig, ax = plt.subplots(figsize=(8, 8))\n",
    "line, = ax.plot([]) \n",
    "ax.set_xlim(-5, 5)\n",
    "ax.set_ylim(-5, 5)\n",
    "line, = ax.plot([], [], lw=2, marker='o', markersize=15, linestyle='-.')\n",
    "# initialization function: plot the background of each frame\n",
    "def init():\n",
    "    line.set_data([], [])\n",
    "    return (line,)\n",
    "\n",
    "def animate(frame_num):\n",
    "    x=xx[frame_num,:]\n",
    "    y=yy[frame_num,:]\n",
    "    line.set_data((x, y))\n",
    "    return (line,)\n",
    "\n",
    "# call the animator. blit=True means only re-draw the parts that have changed.\n",
    "anim = animation.FuncAnimation(fig, animate, init_func=init,\n",
    "                               frames=np.size(np.arange(1,nsteps)), interval=50);"
   ]
  },
  {
   "cell_type": "code",
   "execution_count": null,
   "metadata": {
    "tags": [
     "hide_input"
    ]
   },
   "outputs": [],
   "source": [
    "HTML(anim.to_html5_video())"
   ]
  },
  {
   "cell_type": "code",
   "execution_count": null,
   "metadata": {},
   "outputs": [],
   "source": []
  }
 ],
 "metadata": {
  "interpreter": {
   "hash": "31f2aee4e71d21fbe5cf8b01ff0e069b9275f58929596ceb00d14d90e3e16cd6"
  },
  "kernelspec": {
   "display_name": "Python 3",
   "language": "python",
   "name": "python3"
  },
  "language_info": {
   "codemirror_mode": {
    "name": "ipython",
    "version": 3
   },
   "file_extension": ".py",
   "mimetype": "text/x-python",
   "name": "python",
   "nbconvert_exporter": "python",
   "pygments_lexer": "ipython3",
   "version": "3.7.7"
  }
 },
 "nbformat": 4,
 "nbformat_minor": 4
}
