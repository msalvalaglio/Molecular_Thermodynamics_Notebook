{
 "cells": [
  {
   "cell_type": "markdown",
   "id": "cf902597-3bdd-4462-9b8c-6c7026e1ff33",
   "metadata": {},
   "source": [
    "# Week 4 Exercise: Second Virial Coefficient from Interatomic potentials. \n",
    "\n",
    "Using the expression: \n",
    "\n",
    "$$\n",
    "B_{ii}=2\\pi{N_A}\\int_0^\\infty\\left(1-e^{-\\Gamma_{ii}/RT}\\right)r^2dr\n",
    "$$\n",
    "\n",
    "Compute the second virial coefficient for the following interatomic potentials: \n",
    "\n",
    "- $\\Gamma_{ii}=0$ \n",
    "\n",
    "- $\\Gamma_{ii}=0$ for $r> \\sigma$ ; $\\infty$ for $r \\leq \\sigma$\n",
    "\n",
    "- $\\Gamma_{ii}=0$ for $r>R\\sigma$ ; $-\\epsilon$ for $\\sigma<r\\leq{R}\\sigma$ ; $\\infty$ for $r \\leq \\sigma$\n"
   ]
  }
 ],
 "metadata": {
  "kernelspec": {
   "display_name": "Python 3",
   "language": "python",
   "name": "python3"
  },
  "language_info": {
   "codemirror_mode": {
    "name": "ipython",
    "version": 3
   },
   "file_extension": ".py",
   "mimetype": "text/x-python",
   "name": "python",
   "nbconvert_exporter": "python",
   "pygments_lexer": "ipython3",
   "version": "3.10.4"
  }
 },
 "nbformat": 4,
 "nbformat_minor": 5
}