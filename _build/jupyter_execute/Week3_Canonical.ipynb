{
 "cells": [
  {
   "cell_type": "markdown",
   "id": "a08fac92-cd1f-4c27-bf80-97a6bc6cbf28",
   "metadata": {},
   "source": [
    "# The Canonical Ensemble\n",
    "\n",
    "In the canonical ensemble, all microstates are characterised by the same $N$, $V$ and $T$. To obtain the relevant thermodynamic potential for the canonical ensemble we can start from the microcanonical one. \n",
    "\n",
    "In the microcanonical ensemble, the entropy $S$ is a natural function of $N$,$V$ and $E$, i.e., $S=S(N,V,E)$. \n",
    "This can be inverted to give the energy $E$ as a function of $N$,$V$, and $S$, i.e., $E=E(N,V,S)$. \n",
    "As discussed in Week 1, by using the Legendre transformation to swap $S$ with $T$ one can obtain a new potential, called the Hemlholtz free energy, and is given the symbol $A(N,V,T)$. \n",
    "\n",
    "The Helmoholtz Free Energy is the fundamental energy in the canonical ensemble."
   ]
  },
  {
   "cell_type": "markdown",
   "id": "56b62eee-5d46-462d-9e8d-fea7398255c9",
   "metadata": {},
   "source": [
    "__The Canonical Partition function__ \n",
    "The question now becomes, what is the partition function in the canonical ensemble? \n",
    "\n",
    "The canonical partition function can be written as: \n",
    "\n",
    "$$\n",
    "Q(N,V,T) \\propto \\int{ d { \\mathbf{x}}e^{-\\frac{H(\\mathbf{x})}{kT}}}\n",
    "$$\n",
    "\n",
    "where $H(\\mathbf{x})$ is the Hamiltonian of the system. \n",
    "\n",
    "The proportionality constant in the case of the Canonical partition function is $(N!h^{3N})^{-1}$ leading to the equality: \n",
    "\n",
    "$$\n",
    "Q(N,V,T) = \\frac{1}{N!h^{3N}} \\int{ d { \\mathbf{x}}e^{-\\frac{H(\\mathbf{x})}{kT}}}\n",
    "$$\n",
    "\n",
    "The fundamental relation between $A$ and $Q(N,V,T)$ is: \n",
    "\n",
    "$$\n",
    "A=kT\\ln{Q(N,V,T)}\n",
    "$$\n",
    "\n",
    "This equation provides a link between the microscopic and macroscopic variables at constant $N$, $V$ and $T$. "
   ]
  },
  {
   "cell_type": "code",
   "execution_count": null,
   "id": "680c1ef3-ff67-4558-b476-8e56528e8f0a",
   "metadata": {},
   "outputs": [],
   "source": []
  }
 ],
 "metadata": {
  "kernelspec": {
   "display_name": "Python 3 (ipykernel)",
   "language": "python",
   "name": "python3"
  },
  "language_info": {
   "codemirror_mode": {
    "name": "ipython",
    "version": 3
   },
   "file_extension": ".py",
   "mimetype": "text/x-python",
   "name": "python",
   "nbconvert_exporter": "python",
   "pygments_lexer": "ipython3",
   "version": "3.10.4"
  }
 },
 "nbformat": 4,
 "nbformat_minor": 5
}