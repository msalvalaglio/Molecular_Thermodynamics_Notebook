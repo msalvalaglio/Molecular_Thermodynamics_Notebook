{
 "cells": [
  {
   "cell_type": "markdown",
   "id": "282294f9-9925-4f88-b0dd-4cd179ea4abd",
   "metadata": {},
   "source": [
    "# Week 2 Exercise: The harmonic oscillator. \n",
    "\n",
    "Given a 1D Harmonic oscillator with characteristic frequency $\\omega=5$Hz, mass of 20, starting at the initial position of 1, with an initial momentum of 1. \n",
    "\n",
    "- Can You define the coordinates of the Phase space of the Harmonic oscillator? \n",
    "\n",
    "- How would you represent the motion of the Harmonic oscillator in Phase Space? \n",
    "\n",
    "- What is the most probable state for the Harmonic oscillator? \n",
    "\n",
    "\n",
    "\n"
   ]
  },
  {
   "cell_type": "code",
   "execution_count": null,
   "id": "026302b6-0c8b-498c-8352-eb680a26fd94",
   "metadata": {},
   "outputs": [],
   "source": []
  }
 ],
 "metadata": {
  "kernelspec": {
   "display_name": "Python 3",
   "language": "python",
   "name": "python3"
  },
  "language_info": {
   "codemirror_mode": {
    "name": "ipython",
    "version": 3
   },
   "file_extension": ".py",
   "mimetype": "text/x-python",
   "name": "python",
   "nbconvert_exporter": "python",
   "pygments_lexer": "ipython3",
   "version": "3.10.4"
  }
 },
 "nbformat": 4,
 "nbformat_minor": 5
}