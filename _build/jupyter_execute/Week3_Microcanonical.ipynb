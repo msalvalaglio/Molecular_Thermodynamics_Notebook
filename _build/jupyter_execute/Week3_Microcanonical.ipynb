{
 "cells": [
  {
   "cell_type": "markdown",
   "id": "116357aa-3a29-408c-b0c2-098701311818",
   "metadata": {},
   "source": [
    "# The Microcanonical Ensemble\n",
    "\n",
    "The microcanonical ensemble is built upon the so called postulate of equal a priori probabilities:\n",
    "\n",
    "_Postulate of equal a priori probabilities: For an isolated macroscopic system in equilibrium, all microscopic states corresponding to the same set of macroscopic observables are equally probable._\n",
    "\n",
    "To intuitively absorb the idea of ensemble let's consider a system and its phase space vector $\\mathbf{x}(t)$, evolving in time at constant total energy, volume and number of particles. The configurations sampled, i.e. the realizations of $\\mathbf{x}$ that constitute $\\mathbf{x}(t)$ are sampling the the constant energy hypersurface and are therefore equally probable. \n",
    "\n",
    "The number of equally probable states $\\Omega(N,V,E)$ defines the __partition function__ for the Microcanonical ensemble. \n",
    "\n",
    "The partition function of the microcanonical ensemble is proportional to the integral in phase space over all the states at constant Energy: \n",
    "\n",
    "$$\n",
    "\\Omega(N,V,E)\\propto\\int{d\\mathbf{x}}\\delta(H(\\mathbf{x})-E)\n",
    "$$\n",
    "\n",
    "the proportionality constant is equal to: $C_N=E_0/N!h^{3N}$\n",
    "\n",
    "Here $h$ is a constant with units Energy$\\times$Time, and  $E_0$ is a constant having units of energy. The extra factor of  $E_0$ is needed because the $\\delta$ function has units of inverse energy. Such a constant however has no effect at all on any properties). Thus,  $\\Omega(N,V,E)$ is non-dimensional. \n",
    "\n",
    "The microcanonical partition function quantify the number of microstates accessible to a system at constant energy. \n",
    "Boltzmann identified $\\Omega(N,V,E)$ as the microscopic quantity defining $S$ - the Entropy - which we was introduced as a postulate while stating the second law of Thermodynamics. As $S$,  $\\Omega(N,V,E)$ is a natural function of $N$, $V$ and $E$. \n",
    "\n",
    "The famous Boltzmann's relation between $S$ and  $\\Omega(N,V,E)$ is: \n",
    "\n",
    "$$\n",
    "S(N,V,E)=k\\ln{\\Omega(N,V,E)}\n",
    "$$\n",
    "\n",
    "where k is Boltzmann's constant. \n",
    "\n",
    "This is a key relation, as it establishes a connection between the macroscopically measurable thermodynamic properties of a system and its microscopic details.\n",
    "\n",
    "In particular, by recalling the relationships introduced in Week 1, defining T and the forces associated with the extensive mechanical variables we get: \n",
    "\n",
    "$$\n",
    "k\\left(\\frac{\\partial{\\ln{\\Omega}}}{\\partial{V}}\\right)_U=\\left(\\frac{\\partial{S}}{\\partial{V}}\\right)_U=-\\left(\\frac{\\partial{S}}{\\partial{U}}\\right)_V=\\frac{P}{T}\n",
    "$$\n",
    "\n",
    "$$\n",
    "k\\left(\\frac{\\partial{\\ln{\\Omega}}}{\\partial{n_i}}\\right)_U=\\left(\\frac{\\partial{S}}{\\partial{n_i}}\\right)_U=-\\left(\\frac{\\partial{S}}{\\partial{U}}\\right)_{n_i}=-\\frac{\\mu_i}{T}\n",
    "$$\n",
    "\n",
    "and\n",
    "\n",
    "\n",
    "$$\n",
    "k\\left(\\frac{\\partial{\\ln{\\Omega}}}{\\partial{U}}\\right)_{n_i,V}=\\left(\\frac{\\partial{S}}{\\partial{U}}\\right)_{n_i,V}=\\frac{1}{T}\n",
    "$$\n"
   ]
  }
 ],
 "metadata": {
  "kernelspec": {
   "display_name": "Python 3",
   "language": "python",
   "name": "python3"
  },
  "language_info": {
   "codemirror_mode": {
    "name": "ipython",
    "version": 3
   },
   "file_extension": ".py",
   "mimetype": "text/x-python",
   "name": "python",
   "nbconvert_exporter": "python",
   "pygments_lexer": "ipython3",
   "version": "3.10.4"
  }
 },
 "nbformat": 4,
 "nbformat_minor": 5
}